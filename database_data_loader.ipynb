{
 "cells": [
  {
   "cell_type": "code",
   "execution_count": 9,
   "metadata": {},
   "outputs": [
    {
     "name": "stdout",
     "output_type": "stream",
     "text": [
      "2022-05-18 23:03:25,280 INFO sqlalchemy.engine.Engine BEGIN (implicit)\n",
      "2022-05-18 23:03:25,285 INFO sqlalchemy.engine.Engine INSERT INTO \"PTO\" (\"PTO_id\", \"Emp_id\", \"PTO_date\") VALUES (?, ?, ?)\n",
      "2022-05-18 23:03:25,287 INFO sqlalchemy.engine.Engine [generated in 0.00212s] (1, 4, '2022-05-17 00:00:00.000000')\n",
      "2022-05-18 23:03:25,288 INFO sqlalchemy.engine.Engine COMMIT\n"
     ]
    }
   ],
   "source": [
    "from sqlalchemy import create_engine, and_, false , or_ ,text\n",
    "import sqldatabase_declaration.Model_implementation as decl\n",
    "import datetime\n",
    "from function_classer import create_session\n",
    "session=create_session()\n",
    "\n",
    "# ----------------------------------------- Add records below\n",
    "session.add_all([\n",
    "    #decl.emp_Guard(Emp_id=1,First_name = 'Peter', Last_name = 'Evans',Armedguard_lic=True), \n",
    "    #decl.emp_Guard(Emp_id=2,First_name = 'Pau', Last_name = 'Knotte',Armedguard_lic=True),\n",
    "    #decl.emp_Guard(Emp_id=3,First_name = 'Kate', Last_name = 'Dredd',Armedguard_lic=True),\n",
    "    #decl.emp_Guard(Emp_id=4,First_name = 'Josh', Last_name = 'Bryan',Armedguard_lic=False),\n",
    "    #decl.emp_Guard(Emp_id=5,First_name = 'Gene', Last_name = 'In A Bottle',Armedguard_lic=True),\n",
    "    #decl.emp_Guard(Emp_id=6,First_name = 'John', Last_name = 'Wick',Armedguard_lic=True),\n",
    "    #decl.emp_Guard(Emp_id=7,First_name = 'Bruce', Last_name = 'Wayne',Armedguard_lic=False),\n",
    "    #decl.emp_Guard(Emp_id=8,First_name = 'Peter', Last_name = 'Parker',Armedguard_lic=True),\n",
    "    #decl.requr_Contract(Contract_name='BankOfAmerica',weekd_mo=True,weekd_tu=True,weekd_we=False,weekd_th=True,weekd_fr=True,weekd_sa=False,weekd_su=True,Armed_Guard_req=False,Shift_start=datetime.datetime.strptime('08:00','%H:%M').time(),Shift_end=datetime.datetime.strptime('18:00', '%H:%M').time(),Guard_on_site=1),\n",
    "    #decl.requr_Contract(Contract_name='CVS',weekd_mo=True,weekd_tu=True,weekd_we=True,weekd_th=True,weekd_fr=True,weekd_sa=True,weekd_su=True,Armed_Guard_req=True,Shift_start=datetime.datetime.strptime('08:00','%H:%M').time(),Shift_end=datetime.datetime.strptime('18:00', '%H:%M').time(),Guard_on_site=1),\n",
    "    #decl.requr_Contract(Contract_name='Walmart',weekd_mo=True,weekd_tu=True,weekd_we=False,weekd_th=True,weekd_fr=True,weekd_sa=False,weekd_su=True,Armed_Guard_req=False,Shift_start=datetime.datetime.strptime('08:00','%H:%M').time(),Shift_end=datetime.datetime.strptime('18:00', '%H:%M').time(),Guard_on_site=1),\n",
    "    #decl.requr_Contract(Contract_name='Walgreens',weekd_mo=False,weekd_tu=True,weekd_we=False,weekd_th=False,weekd_fr=True,weekd_sa=True,weekd_su=True,Armed_Guard_req=True,Shift_start=datetime.datetime.strptime('08:00','%H:%M').time(),Shift_end=datetime.datetime.strptime('18:00', '%H:%M').time(),Guard_on_site=1),\n",
    "    #decl.requr_Contract(Contract_name='Zara',weekd_mo=True,weekd_tu=True,weekd_we=False,weekd_th=True,weekd_fr=True,weekd_sa=True,weekd_su=True,Armed_Guard_req=True,Shift_start=datetime.datetime.strptime('08:00','%H:%M').time(),Shift_end=datetime.datetime.strptime('18:00', '%H:%M').time(),Guard_on_site=1),\n",
    "    #decl.requr_Contract(Contract_name='Chase',weekd_mo=True,weekd_tu=True,weekd_we=False,weekd_th=False,weekd_fr=True,weekd_sa=True,weekd_su=False,Armed_Guard_req=False,Shift_start=datetime.datetime.strptime('08:00','%H:%M').time(),Shift_end=datetime.datetime.strptime('18:00', '%H:%M').time(),Guard_on_site=1),\n",
    "    decl.PTO(PTO_id=1,Emp_id=4,PTO_date=datetime.datetime.strptime('2022/05/17',\"%Y/%m/%d\")),\n",
    "    #decl.PTO(PTO_id=2,Emp_id=4,PTO_date=datetime.datetime.strptime('2022/05/18',\"%Y/%m/%d\")),\n",
    "    #decl.PTO(PTO_id=3,Emp_id=4,PTO_date=datetime.datetime.strptime('2022/05/17',\"%Y/%m/%d\")),\n",
    "    #decl.PTO(PTO_id=4,Emp_id=8,PTO_date=datetime.datetime.strptime('2022/05/16',\"%Y/%m/%d\")),\n",
    "    #decl.PTO(PTO_id=5,Emp_id=7,PTO_date=datetime.datetime.strptime('2022/05/22',\"%Y/%m/%d\")),\n",
    "    #decl.PTO(PTO_id=6,Emp_id=5,PTO_date=datetime.datetime.strptime('2022/06/3',\"%Y/%m/%d\")),\n",
    "    #decl.PTO(PTO_id=7,Emp_id=4,PTO_date=datetime.datetime.strptime('2022/06/1',\"%Y/%m/%d\"))\n",
    "\n",
    "\n",
    "    \n",
    "]\n",
    ")\n",
    "\n",
    "session.commit()\n",
    "\n",
    "\n"
   ]
  }
 ],
 "metadata": {
  "interpreter": {
   "hash": "aee8b7b246df8f9039afb4144a1f6fd8d2ca17a180786b69acc140d282b71a49"
  },
  "kernelspec": {
   "display_name": "Python 3.9.7 64-bit",
   "language": "python",
   "name": "python3"
  },
  "language_info": {
   "codemirror_mode": {
    "name": "ipython",
    "version": 3
   },
   "file_extension": ".py",
   "mimetype": "text/x-python",
   "name": "python",
   "nbconvert_exporter": "python",
   "pygments_lexer": "ipython3",
   "version": "3.9.7"
  },
  "orig_nbformat": 4
 },
 "nbformat": 4,
 "nbformat_minor": 2
}
